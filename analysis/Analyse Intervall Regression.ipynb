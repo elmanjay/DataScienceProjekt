{
 "cells": [
  {
   "cell_type": "code",
   "execution_count": 6,
   "id": "df4e8eec",
   "metadata": {},
   "outputs": [
    {
     "ename": "ValueError",
     "evalue": "With n_samples=1, test_size=0.2 and train_size=None, the resulting train set will be empty. Adjust any of the aforementioned parameters.",
     "output_type": "error",
     "traceback": [
      "\u001b[0;31m---------------------------------------------------------------------------\u001b[0m",
      "\u001b[0;31mValueError\u001b[0m                                Traceback (most recent call last)",
      "Cell \u001b[0;32mIn[6], line 25\u001b[0m\n\u001b[1;32m     23\u001b[0m df\u001b[39m.\u001b[39mreset_index(inplace\u001b[39m=\u001b[39m\u001b[39mTrue\u001b[39;00m)\n\u001b[1;32m     24\u001b[0m df[\u001b[39m\"\u001b[39m\u001b[39mDate\u001b[39m\u001b[39m\"\u001b[39m] \u001b[39m=\u001b[39m pd\u001b[39m.\u001b[39mSeries(df[\u001b[39m\"\u001b[39m\u001b[39mDate\u001b[39m\u001b[39m\"\u001b[39m], dtype\u001b[39m=\u001b[39m\u001b[39m\"\u001b[39m\u001b[39mstring\u001b[39m\u001b[39m\"\u001b[39m)\n\u001b[0;32m---> 25\u001b[0m train, test \u001b[39m=\u001b[39m train_test_split(df, test_size\u001b[39m=\u001b[39;49m\u001b[39m0.2\u001b[39;49m, random_state\u001b[39m=\u001b[39;49m\u001b[39m42\u001b[39;49m)\n\u001b[1;32m     26\u001b[0m X_train \u001b[39m=\u001b[39m np\u001b[39m.\u001b[39marray(train\u001b[39m.\u001b[39mindex)\u001b[39m.\u001b[39mreshape(\u001b[39m-\u001b[39m\u001b[39m1\u001b[39m, \u001b[39m1\u001b[39m)\n\u001b[1;32m     27\u001b[0m y_train \u001b[39m=\u001b[39m train[\u001b[39m\"\u001b[39m\u001b[39mClose\u001b[39m\u001b[39m\"\u001b[39m]\n",
      "File \u001b[0;32m~/anaconda3/lib/python3.10/site-packages/sklearn/model_selection/_split.py:2562\u001b[0m, in \u001b[0;36mtrain_test_split\u001b[0;34m(test_size, train_size, random_state, shuffle, stratify, *arrays)\u001b[0m\n\u001b[1;32m   2559\u001b[0m arrays \u001b[39m=\u001b[39m indexable(\u001b[39m*\u001b[39marrays)\n\u001b[1;32m   2561\u001b[0m n_samples \u001b[39m=\u001b[39m _num_samples(arrays[\u001b[39m0\u001b[39m])\n\u001b[0;32m-> 2562\u001b[0m n_train, n_test \u001b[39m=\u001b[39m _validate_shuffle_split(\n\u001b[1;32m   2563\u001b[0m     n_samples, test_size, train_size, default_test_size\u001b[39m=\u001b[39;49m\u001b[39m0.25\u001b[39;49m\n\u001b[1;32m   2564\u001b[0m )\n\u001b[1;32m   2566\u001b[0m \u001b[39mif\u001b[39;00m shuffle \u001b[39mis\u001b[39;00m \u001b[39mFalse\u001b[39;00m:\n\u001b[1;32m   2567\u001b[0m     \u001b[39mif\u001b[39;00m stratify \u001b[39mis\u001b[39;00m \u001b[39mnot\u001b[39;00m \u001b[39mNone\u001b[39;00m:\n",
      "File \u001b[0;32m~/anaconda3/lib/python3.10/site-packages/sklearn/model_selection/_split.py:2236\u001b[0m, in \u001b[0;36m_validate_shuffle_split\u001b[0;34m(n_samples, test_size, train_size, default_test_size)\u001b[0m\n\u001b[1;32m   2233\u001b[0m n_train, n_test \u001b[39m=\u001b[39m \u001b[39mint\u001b[39m(n_train), \u001b[39mint\u001b[39m(n_test)\n\u001b[1;32m   2235\u001b[0m \u001b[39mif\u001b[39;00m n_train \u001b[39m==\u001b[39m \u001b[39m0\u001b[39m:\n\u001b[0;32m-> 2236\u001b[0m     \u001b[39mraise\u001b[39;00m \u001b[39mValueError\u001b[39;00m(\n\u001b[1;32m   2237\u001b[0m         \u001b[39m\"\u001b[39m\u001b[39mWith n_samples=\u001b[39m\u001b[39m{}\u001b[39;00m\u001b[39m, test_size=\u001b[39m\u001b[39m{}\u001b[39;00m\u001b[39m and train_size=\u001b[39m\u001b[39m{}\u001b[39;00m\u001b[39m, the \u001b[39m\u001b[39m\"\u001b[39m\n\u001b[1;32m   2238\u001b[0m         \u001b[39m\"\u001b[39m\u001b[39mresulting train set will be empty. Adjust any of the \u001b[39m\u001b[39m\"\u001b[39m\n\u001b[1;32m   2239\u001b[0m         \u001b[39m\"\u001b[39m\u001b[39maforementioned parameters.\u001b[39m\u001b[39m\"\u001b[39m\u001b[39m.\u001b[39mformat(n_samples, test_size, train_size)\n\u001b[1;32m   2240\u001b[0m     )\n\u001b[1;32m   2242\u001b[0m \u001b[39mreturn\u001b[39;00m n_train, n_test\n",
      "\u001b[0;31mValueError\u001b[0m: With n_samples=1, test_size=0.2 and train_size=None, the resulting train set will be empty. Adjust any of the aforementioned parameters."
     ]
    }
   ],
   "source": [
    "import yfinance as yf\n",
    "import pandas as pd\n",
    "from sklearn.linear_model import LinearRegression\n",
    "from sklearn.metrics import mean_squared_error\n",
    "from sklearn.model_selection import train_test_split\n",
    "from sklearn import metrics\n",
    "import numpy as np\n",
    "import matplotlib.pyplot as plt\n",
    "from sklearn.preprocessing import StandardScaler\n",
    "from sklearn.preprocessing import MinMaxScaler\n",
    "\n",
    "#assets = [\"AAPL\", \"GOOGL\",\"MSFT\"] \n",
    "assets= ['AAPL', 'AMZN', 'GOOGL', 'MSFT', 'TSLA',  'JPM', 'JNJ', 'BAC', 'WMT', 'PG', 'MA', 'NVDA', 'HD', 'PYPL', 'DIS', 'INTC', 'VZ', 'CMCSA']\n",
    "intervalls=  [\"1mo\", \"3mo\", \"6mo\", \"1y\", \"2y\", \"5y\", \"10y\"]\n",
    "means= []\n",
    "results = pd.DataFrame(index=assets,columns=intervalls)\n",
    "\n",
    "#Durchführen Lineare Regression für jede Aktie und jedes Intervall\n",
    "for element in assets:\n",
    "    for time in intervalls:\n",
    "            msft = yf.Ticker(element)\n",
    "            df = msft.history(period=time)\n",
    "            df.reset_index(inplace=True)\n",
    "            df[\"Date\"] = pd.Series(df[\"Date\"], dtype=\"string\")\n",
    "            train, test = train_test_split(df, test_size=0.2, random_state=42)\n",
    "            X_train = np.array(train.index).reshape(-1, 1)\n",
    "            y_train = train[\"Close\"]\n",
    "            X_test = np.array(test.index).reshape(-1, 1)\n",
    "            y_test = test[\"Close\"]\n",
    "            model = LinearRegression()\n",
    "            model.fit(X_train, y_train)\n",
    "            X_all = np.array(df.index).reshape(-1, 1)\n",
    "            predictions = model.predict(X_all)\n",
    "            predictionstest = model.predict(X_test)\n",
    "            predictionstrain = model.predict(X_train)\n",
    "            mse = mean_squared_error(y_test, predictionstest)\n",
    "            results.at[element, time] = mse\n",
    "\n",
    "#Normalisierung der MSE\n",
    "results = results.transpose()\n",
    "for element in results:\n",
    "    scaler = MinMaxScaler()\n",
    "    results[element] = scaler.fit_transform(results[[element]])\n",
    "\n",
    "#Berechnung der durschnittlichen MSE für jedes Intervall\n",
    "results = results.transpose()\n",
    "for element in results:\n",
    "    means.append(results[element].mean())\n",
    "\n",
    "ywerte = means\n",
    "xwerte = intervalls\n",
    "plt.bar(xwerte, ywerte)\n",
    "plt.xlabel(\"Zeitintervalle\")\n",
    "plt.ylabel(\"⌀ Normalisierter MSE über alle Aktien\")\n",
    "plt.show()"
   ]
  }
 ],
 "metadata": {
  "kernelspec": {
   "display_name": "Python 3 (ipykernel)",
   "language": "python",
   "name": "python3"
  },
  "language_info": {
   "codemirror_mode": {
    "name": "ipython",
    "version": 3
   },
   "file_extension": ".py",
   "mimetype": "text/x-python",
   "name": "python",
   "nbconvert_exporter": "python",
   "pygments_lexer": "ipython3",
   "version": "3.10.9"
  }
 },
 "nbformat": 4,
 "nbformat_minor": 5
}
